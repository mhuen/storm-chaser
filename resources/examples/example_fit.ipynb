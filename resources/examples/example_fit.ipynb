{
 "cells": [
  {
   "cell_type": "markdown",
   "metadata": {},
   "source": [
    "# Example for Testing Storm-Chaser"
   ]
  },
  {
   "cell_type": "markdown",
   "metadata": {},
   "source": [
    "This notebook generates some simple data in order to test that the StormChaser is working properly"
   ]
  },
  {
   "cell_type": "code",
   "execution_count": null,
   "metadata": {},
   "outputs": [],
   "source": [
    "%load_ext autoreload\n",
    "%autoreload 2"
   ]
  },
  {
   "cell_type": "code",
   "execution_count": null,
   "metadata": {},
   "outputs": [],
   "source": [
    "import numpy as np\n",
    "import pandas as pd\n",
    "import tensorflow as tf\n",
    "from matplotlib import pyplot as plt"
   ]
  },
  {
   "cell_type": "markdown",
   "metadata": {},
   "source": [
    "## Create Data"
   ]
  },
  {
   "cell_type": "markdown",
   "metadata": {},
   "source": [
    "#### Define Data Function"
   ]
  },
  {
   "cell_type": "code",
   "execution_count": null,
   "metadata": {},
   "outputs": [],
   "source": [
    "def quadratic_func(x, a, b, c):\n",
    "    return a * (x**2) + b * x + c\n",
    "\n",
    "\n",
    "def generate_data(\n",
    "    size,\n",
    "    seed=None,\n",
    "    x_range=[0, 10],\n",
    "    a_range=[0.8, 1.2],\n",
    "    b_range=[0, 2],\n",
    "    c_range=[0.5, 1.5],\n",
    "    d_range=[-1, 1],\n",
    "    func=quadratic_func,\n",
    "):\n",
    "    rng = np.random.RandomState(seed)\n",
    "\n",
    "    # generate x values\n",
    "    x = rng.uniform(*x_range, size=size)\n",
    "\n",
    "    # generate parameters\n",
    "    a = rng.uniform(*a_range, size=size)\n",
    "    b = rng.uniform(*b_range, size=size)\n",
    "    c = rng.uniform(*c_range, size=size)\n",
    "    d = rng.uniform(*d_range, size=size)\n",
    "\n",
    "    # compute y values\n",
    "    weight = func(x, a, b, c)\n",
    "\n",
    "    df = pd.DataFrame(\n",
    "        {\n",
    "            \"x\": x,\n",
    "            \"a\": a,\n",
    "            \"b\": b,\n",
    "            \"c\": c,\n",
    "            \"d\": d,\n",
    "            \"weight\": weight,\n",
    "        }\n",
    "    )\n",
    "\n",
    "    return df"
   ]
  },
  {
   "cell_type": "markdown",
   "metadata": {},
   "source": [
    "#### Generate Data Set"
   ]
  },
  {
   "cell_type": "code",
   "execution_count": null,
   "metadata": {},
   "outputs": [],
   "source": [
    "cfg = {\n",
    "    \"size\": 1000000,\n",
    "    \"seed\": 42,\n",
    "    \"x_range\": [1, 10],\n",
    "    \"a_range\": [0.8, 1.2],\n",
    "    \"b_range\": [0, 2],\n",
    "    \"c_range\": [0.5, 1.5],\n",
    "    \"d_range\": [-1, 1],\n",
    "}\n",
    "\n",
    "df = generate_data(**cfg)\n",
    "\n",
    "cfg_base = {\n",
    "    \"size\": cfg[\"size\"],\n",
    "    \"seed\": 43,\n",
    "    \"x_range\": cfg[\"x_range\"],\n",
    "    \"a_range\": [np.mean(cfg[\"a_range\"]), np.mean(cfg[\"a_range\"])],\n",
    "    \"b_range\": [np.mean(cfg[\"b_range\"]), np.mean(cfg[\"b_range\"])],\n",
    "    \"c_range\": [np.mean(cfg[\"c_range\"]), np.mean(cfg[\"c_range\"])],\n",
    "    \"d_range\": [np.mean(cfg[\"d_range\"]), np.mean(cfg[\"d_range\"])],\n",
    "}\n",
    "df_base = generate_data(**cfg_base)"
   ]
  },
  {
   "cell_type": "markdown",
   "metadata": {},
   "source": [
    "#### Plot Variations"
   ]
  },
  {
   "cell_type": "code",
   "execution_count": null,
   "metadata": {},
   "outputs": [],
   "source": [
    "fig, ax = plt.subplots()\n",
    "x = np.linspace(*cfg[\"x_range\"], 100)\n",
    "mask = df[\"a\"] > 1.18\n",
    "ax.scatter(df[\"x\"][mask], df[\"weight\"][mask])\n",
    "mask = df[\"a\"] < 0.82\n",
    "ax.scatter(df[\"x\"][mask], df[\"weight\"][mask])\n",
    "ax.plot(x, quadratic_func(x, 1.19, 1, 1), color=\"black\")\n",
    "ax.plot(x, quadratic_func(x, 1, 1, 1), color=\"black\")\n",
    "ax.plot(x, quadratic_func(x, 0.81, 1, 1), color=\"black\")\n",
    "ax.set_xlabel(\"x\")\n",
    "ax.set_ylabel(\"weight\")"
   ]
  },
  {
   "cell_type": "code",
   "execution_count": null,
   "metadata": {},
   "outputs": [],
   "source": [
    "fig, ax = plt.subplots()\n",
    "ax.scatter(df[\"x\"], df[\"weight\"])\n",
    "ax.set_xlabel(\"x\")\n",
    "ax.set_ylabel(\"weight\")"
   ]
  },
  {
   "cell_type": "markdown",
   "metadata": {},
   "source": [
    "## Create StormChaser"
   ]
  },
  {
   "cell_type": "markdown",
   "metadata": {},
   "source": [
    "#### Create Model"
   ]
  },
  {
   "cell_type": "code",
   "execution_count": null,
   "metadata": {},
   "outputs": [],
   "source": [
    "from storm_chaser.storm import StormChaser\n",
    "\n",
    "\n",
    "chaser = StormChaser(\n",
    "    params=[\"x\"],\n",
    "    params_sys=[\n",
    "        \"a\",\n",
    "        \"b\",\n",
    "        \"c\",\n",
    "        \"d\",\n",
    "    ],\n",
    "    param_bounds={\n",
    "        \"x\": cfg[\"x_range\"],\n",
    "        \"a\": cfg[\"a_range\"],\n",
    "        \"b\": cfg[\"b_range\"],\n",
    "        \"c\": cfg[\"c_range\"],\n",
    "        \"d\": cfg[\"d_range\"],\n",
    "    },\n",
    "    data_trafo={},\n",
    "    params_trafo_bin_width_range={\n",
    "        # \"x\": [0.1, 1.0],\n",
    "        \"x\": [0.05, 0.3],\n",
    "    },\n",
    "    min_target_per_bin=10000,\n",
    "    min_events_per_bin=100,\n",
    "    use_nth_fc_layer_as_input=None,\n",
    "    verbose=True,\n",
    ")"
   ]
  },
  {
   "cell_type": "markdown",
   "metadata": {},
   "source": [
    "#### Train Model"
   ]
  },
  {
   "cell_type": "code",
   "execution_count": null,
   "metadata": {},
   "outputs": [],
   "source": [
    "import tensorflow as tf\n",
    "\n",
    "chaser.build_model(\n",
    "    df_sys=df,\n",
    "    max_n_sys=None,\n",
    "    ignore_missing_samples=True,\n",
    "    epochs=1,\n",
    "    steps_per_epoch=20000,\n",
    "    steps_burn_in=0,\n",
    "    num_trafo_samples=1000,\n",
    "    weight_key=\"weight\",\n",
    "    optimizer=tf.keras.optimizers.Adam(learning_rate=0.001),\n",
    "    bootstrap_mc=True,\n",
    ")"
   ]
  },
  {
   "cell_type": "markdown",
   "metadata": {},
   "source": [
    "## Validate Model"
   ]
  },
  {
   "cell_type": "code",
   "execution_count": null,
   "metadata": {},
   "outputs": [],
   "source": [
    "from itertools import cycle\n",
    "\n",
    "\n",
    "def get_color_cycler(colors=plt.rcParams[\"axes.prop_cycle\"].by_key()[\"color\"]):\n",
    "    return cycle(colors)\n",
    "\n",
    "\n",
    "def compare_model(\n",
    "    chaser,\n",
    "    params_sys,\n",
    "    cfg,\n",
    "    func=quadratic_func,\n",
    "    plot_truth=True,\n",
    "    fig=None,\n",
    "    ax=None,\n",
    "    label_truth=\"Truth\",\n",
    "    label_sys=\"Prediction\",\n",
    "    kwargs_truth={},\n",
    "    kwargs_sys={},\n",
    "):\n",
    "    x = np.linspace(*cfg[\"x_range\"], 20)\n",
    "\n",
    "    y_base = func(\n",
    "        x=x,\n",
    "        a=np.mean(cfg[\"a_range\"]),\n",
    "        b=np.mean(cfg[\"b_range\"]),\n",
    "        c=np.mean(cfg[\"c_range\"]),\n",
    "    )\n",
    "    y_sys = func(\n",
    "        x=x,\n",
    "        a=params_sys[\"a\"],\n",
    "        b=params_sys[\"b\"],\n",
    "        c=params_sys[\"c\"],\n",
    "    )\n",
    "\n",
    "    variation = y_sys / y_base\n",
    "    df_input = {\"x\": x}\n",
    "    for param in chaser.params_sys:\n",
    "        df_input[param] = np.zeros_like(x) + params_sys[param]\n",
    "    df_input = pd.DataFrame(df_input)\n",
    "\n",
    "    model_values = chaser.chase(df_input)\n",
    "    model_pred = model_values[..., 0, 0]\n",
    "    model_unc = model_values[..., 0, 1]\n",
    "\n",
    "    if ax is None:\n",
    "        fig, ax = plt.subplots()\n",
    "\n",
    "    if plot_truth:\n",
    "        ax.plot(x, variation, label=label_truth, **kwargs_truth)\n",
    "\n",
    "    ax.plot(x, model_pred, label=label_sys, **kwargs_sys)\n",
    "    ax.fill_between(\n",
    "        x,\n",
    "        model_pred - model_unc,\n",
    "        model_pred + model_unc,\n",
    "        alpha=0.5,\n",
    "        **kwargs_sys,\n",
    "    )\n",
    "    ax.set_xlabel(\"x\")\n",
    "    ax.set_ylabel(\"Variation\")\n",
    "    ax.legend()\n",
    "    # ax.set_ylim(0, 2)\n",
    "    fig.tight_layout()\n",
    "\n",
    "    return fig, ax\n",
    "\n",
    "\n",
    "fig, ax = plt.subplots()\n",
    "color_cycler = get_color_cycler()\n",
    "\n",
    "for a in [1.2, 1.15, 1.0, 0.9, 0.85, 0.8]:\n",
    "    color = next(color_cycler)\n",
    "    compare_model(\n",
    "        chaser,\n",
    "        params_sys=dict(a=a, b=1, c=1, d=0),\n",
    "        cfg=cfg,\n",
    "        fig=fig,\n",
    "        ax=ax,\n",
    "        kwargs_truth=dict(ls=\"-\", color=color),\n",
    "        kwargs_sys=dict(ls=\"--\", color=color),\n",
    "        label_sys=None,\n",
    "        label_truth=f\"a = {a:2.2f}\",\n",
    "    )"
   ]
  },
  {
   "cell_type": "markdown",
   "metadata": {},
   "source": [
    "#### Keep all other systematics at baseline"
   ]
  },
  {
   "cell_type": "code",
   "execution_count": null,
   "metadata": {},
   "outputs": [],
   "source": [
    "from copy import deepcopy\n",
    "\n",
    "for param in chaser.params_sys:\n",
    "    if param in [\"size\", \"seed\", \"x_range\"]:\n",
    "        continue\n",
    "\n",
    "    fig, ax = plt.subplots()\n",
    "    ax.set_title(f\"Varyinng: {param}\")\n",
    "    color_cycler = get_color_cycler()\n",
    "\n",
    "    bounds = cfg[f\"{param}_range\"]\n",
    "    for value in np.linspace(*bounds, 7)[1:-1]:\n",
    "        color = next(color_cycler)\n",
    "        params_sys = dict(\n",
    "            a=np.mean(cfg[\"a_range\"]),\n",
    "            b=np.mean(cfg[\"b_range\"]),\n",
    "            c=np.mean(cfg[\"c_range\"]),\n",
    "            d=np.mean(cfg[\"d_range\"]),\n",
    "        )\n",
    "        params_sys[param] = value\n",
    "\n",
    "        compare_model(\n",
    "            chaser,\n",
    "            params_sys=params_sys,\n",
    "            cfg=cfg,\n",
    "            fig=fig,\n",
    "            ax=ax,\n",
    "            kwargs_truth=dict(ls=\"-\", color=color),\n",
    "            kwargs_sys=dict(ls=\"--\", color=color),\n",
    "            label_sys=None,\n",
    "            label_truth=f\"{param} = {value:2.2f}\",\n",
    "        )\n",
    "    ax.plot(np.inf, np.inf, color=\"0.3\", ls=\"-\", label=\"Truth\")\n",
    "    ax.plot(np.inf, np.inf, color=\"0.3\", ls=\"--\", label=\"Prediction\")\n",
    "    ax.legend()"
   ]
  },
  {
   "cell_type": "markdown",
   "metadata": {},
   "source": [
    "#### Randomly choose other parameters"
   ]
  },
  {
   "cell_type": "code",
   "execution_count": null,
   "metadata": {},
   "outputs": [],
   "source": [
    "from copy import deepcopy\n",
    "\n",
    "for param in chaser.params_sys:\n",
    "    if param in [\"size\", \"seed\", \"x_range\"]:\n",
    "        continue\n",
    "\n",
    "    fig, ax = plt.subplots()\n",
    "    ax.set_title(f\"Varyinng: {param}\")\n",
    "    color_cycler = get_color_cycler()\n",
    "\n",
    "    bounds = cfg[f\"{param}_range\"]\n",
    "    for value in np.linspace(*bounds, 7)[1:-1]:\n",
    "        color = next(color_cycler)\n",
    "        params_sys = dict(\n",
    "            a=np.random.uniform(*cfg[\"a_range\"]),\n",
    "            b=np.random.uniform(*cfg[\"b_range\"]),\n",
    "            c=np.random.uniform(*cfg[\"c_range\"]),\n",
    "            d=np.random.uniform(*cfg[\"d_range\"]),\n",
    "        )\n",
    "        params_sys[param] = value\n",
    "\n",
    "        label_truth = \"\"\n",
    "        for name, val in params_sys.items():\n",
    "            label_truth += f\"{name}: {val:2.2f} | \"\n",
    "        compare_model(\n",
    "            chaser,\n",
    "            params_sys=params_sys,\n",
    "            cfg=cfg,\n",
    "            fig=fig,\n",
    "            ax=ax,\n",
    "            kwargs_truth=dict(ls=\"-\", color=color),\n",
    "            kwargs_sys=dict(ls=\"--\", color=color),\n",
    "            label_sys=None,\n",
    "            label_truth=label_truth,\n",
    "        )\n",
    "    ax.plot(np.inf, np.inf, color=\"0.3\", ls=\"-\", label=\"Truth\")\n",
    "    ax.plot(np.inf, np.inf, color=\"0.3\", ls=\"--\", label=\"Prediction\")\n",
    "    ax.legend()"
   ]
  },
  {
   "cell_type": "code",
   "execution_count": null,
   "metadata": {},
   "outputs": [],
   "source": []
  }
 ],
 "metadata": {
  "kernelspec": {
   "display_name": "py_3.10_prompt_muons",
   "language": "python",
   "name": "py_3.10_prompt_muons"
  },
  "language_info": {
   "codemirror_mode": {
    "name": "ipython",
    "version": 3
   },
   "file_extension": ".py",
   "mimetype": "text/x-python",
   "name": "python",
   "nbconvert_exporter": "python",
   "pygments_lexer": "ipython3",
   "version": "3.10.12"
  }
 },
 "nbformat": 4,
 "nbformat_minor": 2
}
